{
 "cells": [
  {
   "cell_type": "code",
   "execution_count": 1,
   "metadata": {},
   "outputs": [],
   "source": [
    "import pandas as pd\n",
    "import os"
   ]
  },
  {
   "cell_type": "code",
   "execution_count": 2,
   "metadata": {},
   "outputs": [],
   "source": [
    "def preprocess(file_path):\n",
    "    import re\n",
    "    import os\n",
    "    match = re.search(r'\\d{4}-\\d{2}-\\d{2}', file_path)\n",
    "    date = pd.to_datetime(match.group(0))\n",
    "    \n",
    "    sheet = pd.read_excel(file_path, header=None)\n",
    "    locations = sheet.iloc[3, 5:35].dropna().values\n",
    "    environment_headers = ['time', '수평면', '외기온도', '경사면', '모듈온도']\n",
    "\n",
    "    location_headers = []\n",
    "    for location in locations:\n",
    "        location_headers.append(location)\n",
    "\n",
    "    final_headers = environment_headers + location_headers\n",
    "    \n",
    "    final_data_corrected = sheet.iloc[6:30, [0, 1, 2, 3, 4, 6, 8, 10, 12, 14, 16, 18, 20, 22, 24, 26, 28, 30, 32, 34]]\n",
    "    \n",
    "    final_data_corrected.columns = final_headers\n",
    "    final_data_corrected.insert(0, 'day', date)\n",
    "    final_data_corrected['time'] = final_data_corrected['time'].str.replace('시', '').str.strip().astype(int)\n",
    "    \n",
    "    new_file_path = os.path.join(os.path.dirname(file_path), 'processed', os.path.basename(file_path)[:-4] + '_filtered.csv')\n",
    "    final_data_corrected.to_csv(new_file_path, index=False)\n",
    "    \n",
    "    return new_file_path\n"
   ]
  },
  {
   "cell_type": "code",
   "execution_count": 3,
   "metadata": {},
   "outputs": [
    {
     "data": {
      "text/plain": [
       "['태양광 일보.gcf_2022-08-02_23-59-22.xls',\n",
       " '태양광 일보.gcf_2022-07-24_23-59-04.xls',\n",
       " '태양광 일보.gcf_2022-07-30_23-59-16.xls',\n",
       " '태양광 일보.gcf_2022-08-21_23-59-09.xls',\n",
       " '태양광 일보.gcf_2022-08-30_23-59-28.xls',\n",
       " '태양광 일보.gcf_2022-07-06_23-59-28.xls',\n",
       " '태양광 일보.gcf_2022-07-01_23-59-28.xls',\n",
       " '태양광 일보.gcf_2022-08-14_23-59-16.xls',\n",
       " '태양광 일보.gcf_2022-08-20_23-59-27.xls',\n",
       " '태양광 일보.gcf_2022-07-25_23-59-16.xls',\n",
       " '태양광 일보.gcf_2022-08-25_23-59-28.xls',\n",
       " '태양광 일보.gcf_2022-08-31_23-59-10.xls',\n",
       " '태양광 일보.gcf_2022-07-07_23-59-10.xls',\n",
       " '태양광 일보.gcf_2022-07-12_23-59-10.xls',\n",
       " '태양광 일보.gcf_2022-08-17_23-59-21.xls',\n",
       " '태양광 일보.gcf_2022-08-06_23-59-10.xls',\n",
       " '태양광 일보.gcf_2022-08-01_23-59-10.xls',\n",
       " '.DS_Store',\n",
       " '태양광 일보.gcf_2022-07-22_23-59-10.xls',\n",
       " '태양광 일보.gcf_2022-08-13_23-59-04.xls',\n",
       " '태양광 일보.gcf_2022-07-03_23-59-22.xls',\n",
       " '태양광 일보.gcf_2022-08-16_23-59-09.xls',\n",
       " '태양광 일보.gcf_2022-07-14_23-59-04.xls',\n",
       " '태양광 일보.gcf_2022-07-31_23-59-28.xls',\n",
       " '태양광 일보.gcf_2022-08-23_23-59-03.xls',\n",
       " '태양광 일보.gcf_2022-08-27_23-59-22.xls',\n",
       " '태양광 일보.gcf_2022-07-15_23-59-16.xls',\n",
       " '태양광 일보.gcf_2022-08-24_23-59-16.xls',\n",
       " '태양광 일보.gcf_2022-08-29_23-59-16.xls',\n",
       " '태양광 일보.gcf_2022-08-28_23-59-04.xls',\n",
       " '태양광 일보.gcf_2022-07-19_23-59-04.xls',\n",
       " '태양광 일보.gcf_2022-08-18_23-59-03.xls',\n",
       " '태양광 일보.gcf_2022-07-08_23-59-22.xls',\n",
       " '태양광 일보.gcf_2022-08-19_23-59-15.xls',\n",
       " '태양광 일보.gcf_2022-07-29_23-59-04.xls',\n",
       " '태양광 일보.gcf_2022-07-18_23-59-22.xls',\n",
       " '태양광 일보.gcf_2022-08-08_23-59-04.xls',\n",
       " '태양광 일보.gcf_2022-08-09_23-59-16.xls',\n",
       " '태양광 일보.gcf_2022-07-09_23-59-04.xls',\n",
       " '태양광 일보.gcf_2022-07-28_23-59-22.xls',\n",
       " '태양광 일보.gcf_2022-08-03_23-59-04.xls',\n",
       " '태양광 일보.gcf_2022-07-27_23-59-10.xls',\n",
       " '태양광 일보.gcf_2022-08-11_23-59-10.xls',\n",
       " '태양광 일보.gcf_2022-08-22_23-59-21.xls',\n",
       " '태양광 일보.gcf_2022-08-05_23-59-28.xls',\n",
       " '태양광 일보.gcf_2022-07-05_23-59-16.xls',\n",
       " '태양광 일보.gcf_2022-07-26_23-59-28.xls',\n",
       " '태양광 일보.gcf_2022-08-10_23-59-28.xls',\n",
       " '태양광 일보.gcf_2022-07-21_23-59-28.xls',\n",
       " '태양광 일보.gcf_2022-08-15_23-59-27.xls',\n",
       " '태양광 일보.gcf_2022-07-04_23-59-04.xls',\n",
       " '태양광 일보.gcf_2022-07-10_23-59-16.xls',\n",
       " '태양광 일보.gcf_2022-07-13_23-59-22.xls',\n",
       " '태양광 일보.gcf_2022-08-07_23-59-22.xls',\n",
       " '태양광 일보.gcf_2022-08-04_23-59-16.xls',\n",
       " '태양광 일보.gcf_2022-07-11_23-59-28.xls',\n",
       " '태양광 일보.gcf_2022-07-16_23-59-28.xls',\n",
       " '태양광 일보.gcf_2022-07-23_23-59-22.xls',\n",
       " '태양광 일보.gcf_2022-08-12_23-59-22.xls',\n",
       " '태양광 일보.gcf_2022-07-20_23-59-16.xls',\n",
       " '태양광 일보.gcf_2022-07-02_23-59-10.xls',\n",
       " '태양광 일보.gcf_2022-08-26_23-59-10.xls',\n",
       " '태양광 일보.gcf_2022-07-17_23-59-10.xls']"
      ]
     },
     "execution_count": 3,
     "metadata": {},
     "output_type": "execute_result"
    }
   ],
   "source": [
    "file_dir = './solar-power-report/'\n",
    "\n",
    "file_list = [f for f in os.listdir(file_dir) if os.path.isfile(os.path.join(file_dir, f))]\n",
    "file_list"
   ]
  },
  {
   "cell_type": "code",
   "execution_count": 4,
   "metadata": {},
   "outputs": [],
   "source": [
    "merged_df = pd.read_csv('./merged_dataset.csv')\n",
    "merged_df['day'] = pd.to_datetime(merged_df['day'])\n",
    "\n",
    "temp_df_path = preprocess(os.path.join(file_dir, file_list[0]))\n",
    "temp_df = pd.read_csv(temp_df_path)\n",
    "temp_df['day'] = pd.to_datetime(temp_df['day'])\n",
    "merged_df = pd.merge(merged_df, temp_df, on=['day', 'time'], how='left')\n",
    "\n",
    "for file_name in file_list[1:]:\n",
    "  if file_name.startswith('.'):\n",
    "    continue\n",
    "  temp_df = pd.read_csv(preprocess(os.path.join(file_dir, file_name)))\n",
    "  for index, row in temp_df.iterrows():\n",
    "      mask = (merged_df['day'] == row['day']) & (merged_df['time'] == row['time'])\n",
    "      for column in temp_df.columns[2:]:\n",
    "          # Updating only the columns that are present in both DataFrames\n",
    "          if column in merged_df.columns:\n",
    "              merged_df.loc[mask, column] = row[column]\n",
    "  \n",
    "merged_df.to_csv('merged_result.csv', index=False)"
   ]
  }
 ],
 "metadata": {
  "kernelspec": {
   "display_name": "gist-campus-ems-32oiAFMj-py3.11",
   "language": "python",
   "name": "python3"
  },
  "language_info": {
   "codemirror_mode": {
    "name": "ipython",
    "version": 3
   },
   "file_extension": ".py",
   "mimetype": "text/x-python",
   "name": "python",
   "nbconvert_exporter": "python",
   "pygments_lexer": "ipython3",
   "version": "3.11.4"
  },
  "orig_nbformat": 4
 },
 "nbformat": 4,
 "nbformat_minor": 2
}
