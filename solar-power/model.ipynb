{
 "cells": [
  {
   "cell_type": "code",
   "execution_count": 18,
   "metadata": {},
   "outputs": [
    {
     "name": "stdout",
     "output_type": "stream",
     "text": [
      "Fitting 5 folds for each of 243 candidates, totalling 1215 fits\n"
     ]
    },
    {
     "name": "stdout",
     "output_type": "stream",
     "text": [
      "Fitting 5 folds for each of 243 candidates, totalling 1215 fits\n",
      "Fitting 5 folds for each of 243 candidates, totalling 1215 fits\n",
      "Fitting 5 folds for each of 243 candidates, totalling 1215 fits\n"
     ]
    }
   ],
   "source": [
    "import pandas as pd\n",
    "import numpy as np\n",
    "from sklearn.preprocessing import MinMaxScaler\n",
    "from sklearn.model_selection import train_test_split, GridSearchCV\n",
    "from sklearn.ensemble import GradientBoostingRegressor\n",
    "\n",
    "# 1. 데이터 로드\n",
    "data = pd.read_csv(\"./merged_result.csv\")\n",
    "\n",
    "# 2. 특징 전처리\n",
    "data['풍향'] = np.sin(np.deg2rad(data['풍향']))\n",
    "\n",
    "features_to_scale = ['강수확률', '일최저기온', '하늘상태', '일최고기온', '습도', '풍향', '풍속']\n",
    "scaler = MinMaxScaler()\n",
    "data[features_to_scale] = scaler.fit_transform(data[features_to_scale])\n",
    "\n",
    "# 중요한 피처로 간주하여 별도로 스케일링\n",
    "important_features = ['time']\n",
    "scaler_important = MinMaxScaler(feature_range=(0.5, 1))\n",
    "data[important_features] = scaler_important.fit_transform(data[important_features])\n",
    "\n",
    "# 3. 데이터 분할\n",
    "input_features = features_to_scale + important_features\n",
    "target_variables = ['수평면', '외기온도', '경사면', '모듈온도']\n",
    "X = data[input_features]\n",
    "y = data[target_variables]\n",
    "X_train, X_test, y_train, y_test = train_test_split(X, y, test_size=0.2, random_state=42)\n",
    "\n",
    "# 4. 모델 학습 및 하이퍼파라미터 튜닝\n",
    "param_grid = {\n",
    "    'n_estimators': [50, 100, 150],\n",
    "    'learning_rate': [0.01, 0.05, 0.1],\n",
    "    'max_depth': [3, 4, 5],\n",
    "    'subsample': [0.8, 0.9, 1],\n",
    "    'max_features': ['sqrt', 'log2', None]\n",
    "}\n",
    "grid_search = GridSearchCV(GradientBoostingRegressor(random_state=42), param_grid, cv=5, n_jobs=-1, verbose=1)\n",
    "\n",
    "# 5. 테스트셋에서의 예측\n",
    "predictions = {}\n",
    "for target in target_variables:\n",
    "    grid_search.fit(X_train, y_train[target])\n",
    "    predictions[target] = grid_search.predict(X_test)\n",
    "\n",
    "# 예측 결과와 실제 값 비교\n",
    "comparison_dfs = {}\n",
    "for target in target_variables:\n",
    "    comparison_dfs[target] = pd.DataFrame({\n",
    "        f\"Actual {target}\": y_test[target],\n",
    "        f\"Predicted {target}\": predictions[target]\n",
    "    })"
   ]
  },
  {
   "cell_type": "code",
   "execution_count": 19,
   "metadata": {},
   "outputs": [
    {
     "name": "stdout",
     "output_type": "stream",
     "text": [
      "      Actual 외기온도  Predicted 외기온도\n",
      "1318         24.2       24.969775\n",
      "899          43.0       41.315395\n",
      "439          24.5       26.471294\n",
      "560          23.9       29.403372\n",
      "433          24.6       25.136857\n",
      "      Actual 수평면  Predicted 수평면\n",
      "1318         0.0       0.286919\n",
      "899        626.0     554.205602\n",
      "439         42.0      61.468814\n",
      "560         33.0     140.669069\n",
      "433          0.0       2.910868\n",
      "      Actual 모듈온도  Predicted 모듈온도\n",
      "1318         22.8       24.193406\n",
      "899          52.2       46.031512\n",
      "439          22.8       24.467112\n",
      "560          23.0       27.138005\n",
      "433          23.0       23.951652\n",
      "      Actual 경사면  Predicted 경사면\n",
      "1318         0.0       6.736264\n",
      "899        674.0     502.709700\n",
      "439         27.0      44.048440\n",
      "560         32.0     111.688614\n",
      "433          0.0      15.789200\n"
     ]
    }
   ],
   "source": [
    "# 예: '외기온도'에 대한 비교 결과 출력\n",
    "print(comparison_dfs['외기온도'].head())\n",
    "print(comparison_dfs['수평면'].head())\n",
    "print(comparison_dfs['모듈온도'].head())\n",
    "print(comparison_dfs['경사면'].head())"
   ]
  },
  {
   "cell_type": "code",
   "execution_count": null,
   "metadata": {},
   "outputs": [],
   "source": []
  }
 ],
 "metadata": {
  "kernelspec": {
   "display_name": "gist-campus-ems-ntfQ-Uq6-py3.11",
   "language": "python",
   "name": "python3"
  },
  "language_info": {
   "codemirror_mode": {
    "name": "ipython",
    "version": 3
   },
   "file_extension": ".py",
   "mimetype": "text/x-python",
   "name": "python",
   "nbconvert_exporter": "python",
   "pygments_lexer": "ipython3",
   "version": "3.11.4"
  },
  "orig_nbformat": 4
 },
 "nbformat": 4,
 "nbformat_minor": 2
}
