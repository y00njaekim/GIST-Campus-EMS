{
 "cells": [
  {
   "cell_type": "code",
   "execution_count": null,
   "metadata": {},
   "outputs": [],
   "source": [
    "import pandas as pd\n",
    "import os\n",
    "\n",
    "file_dir = './filtered/'\n",
    "file_list = os.listdir(file_dir)\n",
    "file_list"
   ]
  },
  {
   "cell_type": "code",
   "execution_count": null,
   "metadata": {},
   "outputs": [],
   "source": [
    "merged_df = pd.read_csv(os.path.join(file_dir, file_list[0]))\n",
    "merged_df.rename(columns={'value': file_list[0].split('_')[1]}, inplace=True)\n",
    "\n",
    "for file_name in file_list[1:]:\n",
    "    temp_df = pd.read_csv(os.path.join(file_dir, file_name))\n",
    "    \n",
    "    column_name = file_name.split('_')[1]\n",
    "    temp_df.rename(columns={'value': column_name}, inplace=True)\n",
    "    \n",
    "    merged_df = pd.merge(merged_df, temp_df[['day', 'time', column_name]], on=['day', 'time'], how='left')\n",
    "    \n",
    "for day in merged_df['day'].unique():\n",
    "    low_temp_value = merged_df.loc[(merged_df['day'] == day) & (merged_df['time'] == 1), '일최저기온'].values[0]\n",
    "    high_temp_value = merged_df.loc[(merged_df['day'] == day) & (merged_df['time'] == 1), '일최고기온'].values[0]\n",
    "    merged_df.loc[merged_df['day'] == day, '일최저기온'] = low_temp_value\n",
    "    merged_df.loc[merged_df['day'] == day, '일최고기온'] = high_temp_value\n",
    "\n",
    "merged_df.head()"
   ]
  },
  {
   "cell_type": "code",
   "execution_count": null,
   "metadata": {},
   "outputs": [],
   "source": [
    "output_file_path = \"merged_dataset.csv\"\n",
    "merged_df.to_csv(output_file_path, index=False)\n",
    "output_file_path"
   ]
  },
  {
   "cell_type": "code",
   "execution_count": null,
   "metadata": {},
   "outputs": [],
   "source": []
  }
 ],
 "metadata": {
  "kernelspec": {
   "display_name": "gist-campus-ems-32oiAFMj-py3.11",
   "language": "python",
   "name": "python3"
  },
  "language_info": {
   "codemirror_mode": {
    "name": "ipython",
    "version": 3
   },
   "file_extension": ".py",
   "mimetype": "text/x-python",
   "name": "python",
   "nbconvert_exporter": "python",
   "pygments_lexer": "ipython3",
   "version": "3.11.4"
  },
  "orig_nbformat": 4
 },
 "nbformat": 4,
 "nbformat_minor": 2
}
