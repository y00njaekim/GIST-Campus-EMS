{
 "cells": [
  {
   "cell_type": "code",
   "execution_count": 1,
   "metadata": {},
   "outputs": [],
   "source": [
    "import pandas as pd\n",
    "\n",
    "def process_data(file_path):\n",
    "    processed_data = []\n",
    "    current_day = None\n",
    "    \n",
    "    with open(file_path, 'r', encoding='utf-8') as file:\n",
    "        for line in file:\n",
    "            line = line.strip()\n",
    "            if \"Start :\" in line:\n",
    "                current_day = line.split()[-1]\n",
    "            elif line.count(',') == 3:\n",
    "                day, hour, forecast, value = line.split(',')\n",
    "                if not day.isnumeric():\n",
    "                    continue\n",
    "                \n",
    "                hour = pd.to_numeric(hour[:-2])\n",
    "                if hour != 8:\n",
    "                    continue\n",
    "                \n",
    "                forecast = pd.to_numeric(forecast.replace('+', ''))\n",
    "                if forecast < 7 or forecast > 30:\n",
    "                    continue\n",
    "                \n",
    "                date = pd.to_datetime(current_day) + pd.Timedelta(days=int(1))\n",
    "                time = hour + forecast + 9 - 24\n",
    "                \n",
    "                processed_data.append([date, time, value])\n",
    "                \n",
    "    return pd.DataFrame(processed_data, columns=['day', 'time', 'value'])\n"
   ]
  },
  {
   "cell_type": "code",
   "execution_count": null,
   "metadata": {},
   "outputs": [],
   "source": [
    "import os\n",
    "file_dir = './data/'\n",
    "file_list = os.listdir(file_dir)\n",
    "\n",
    "for file_name in file_list:\n",
    "    processed_data = process_data(os.path.join(file_dir, file_name))\n",
    "    new_file_path = os.path.join(file_dir, file_name).split('.')[0] + '_filtered.csv'\n",
    "    processed_data.to_csv(new_file_path, index=False)"
   ]
  }
 ],
 "metadata": {
  "kernelspec": {
   "display_name": "gist-campus-ems-32oiAFMj-py3.11",
   "language": "python",
   "name": "python3"
  },
  "language_info": {
   "codemirror_mode": {
    "name": "ipython",
    "version": 3
   },
   "file_extension": ".py",
   "mimetype": "text/x-python",
   "name": "python",
   "nbconvert_exporter": "python",
   "pygments_lexer": "ipython3",
   "version": "3.11.4"
  },
  "orig_nbformat": 4
 },
 "nbformat": 4,
 "nbformat_minor": 2
}
