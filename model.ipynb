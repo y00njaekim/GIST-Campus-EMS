{
 "cells": [
  {
   "cell_type": "code",
   "execution_count": 5,
   "metadata": {},
   "outputs": [],
   "source": [
    "# 개별 모델을 각 목표 변수에 대해 훈련시키고 예측 수행\n",
    "def train_and_predict_individual_models(models, X_train, y_train, X_test):\n",
    "    import numpy as np\n",
    "    predictions = []\n",
    "    for target_index in range(y_train.shape[1]):\n",
    "        target_predictions = np.zeros(X_test.shape[0])\n",
    "        for model in models:\n",
    "            model.fit(X_train, y_train.iloc[:, target_index])\n",
    "            target_predictions += model.predict(X_test)\n",
    "        predictions.append(target_predictions / len(models))\n",
    "    return np.column_stack(predictions)"
   ]
  },
  {
   "cell_type": "code",
   "execution_count": 6,
   "metadata": {},
   "outputs": [
    {
     "name": "stderr",
     "output_type": "stream",
     "text": [
      "/Users/yoonjae/Library/Caches/pypoetry/virtualenvs/gist-campus-ems-ntfQ-Uq6-py3.11/lib/python3.11/site-packages/sklearn/preprocessing/_encoders.py:972: FutureWarning: `sparse` was renamed to `sparse_output` in version 1.2 and will be removed in 1.4. `sparse_output` is ignored unless you leave `sparse` to its default value.\n",
      "  warnings.warn(\n"
     ]
    }
   ],
   "source": [
    "import pandas as pd\n",
    "from sklearn.model_selection import train_test_split\n",
    "from sklearn.preprocessing import OneHotEncoder\n",
    "from sklearn.ensemble import RandomForestRegressor, GradientBoostingRegressor\n",
    "from sklearn.svm import SVR\n",
    "from sklearn.metrics import mean_squared_error, mean_absolute_error\n",
    "\n",
    "# 데이터 로드\n",
    "file_path = \"./merged_result.csv\"\n",
    "data = pd.read_csv(file_path)\n",
    "\n",
    "# 특성 및 목표 변수 선택\n",
    "features = ['강수확률', '일최저기온', '1시간기온', '하늘상태', '일최고기온', '습도', '풍향', '1시간강수량', '풍속']\n",
    "target_vars = ['수평면', '외기온도', '경사면', '모듈온도']\n",
    "X = data[features]\n",
    "y = data[target_vars]\n",
    "\n",
    "# 범주형 특성 원-핫 인코딩\n",
    "encoder = OneHotEncoder(drop='first', sparse=False)\n",
    "encoded_features = encoder.fit_transform(X[['하늘상태']])\n",
    "encoded_df = pd.DataFrame(encoded_features, columns=encoder.get_feature_names_out(['하늘상태']))\n",
    "X_encoded = pd.concat([X.drop(columns=['하늘상태']), encoded_df], axis=1)\n",
    "\n",
    "# 학습 및 테스트 세트 분할\n",
    "X_train, X_test, y_train, y_test = train_test_split(X_encoded, y, test_size=0.2, random_state=42)\n",
    "\n",
    "# 개별 모델 정의\n",
    "models = [\n",
    "    RandomForestRegressor(random_state=42),\n",
    "    GradientBoostingRegressor(random_state=42),\n",
    "    SVR(kernel='linear')\n",
    "]\n",
    "\n",
    "ensemble_predictions_individual = train_and_predict_individual_models(models, X_train, y_train, X_test)\n",
    "\n",
    "# 성능 평가\n",
    "ensemble_mse_individual = mean_squared_error(y_test, ensemble_predictions_individual)\n",
    "ensemble_mae_individual = mean_absolute_error(y_test, ensemble_predictions_individual)"
   ]
  },
  {
   "cell_type": "code",
   "execution_count": 7,
   "metadata": {},
   "outputs": [
    {
     "data": {
      "text/plain": [
       "(15563.985340694793,\n",
       " 55.90053576223588,\n",
       " array([581.21729013,  36.12380304, 577.03424936,  43.58063132]),\n",
       " array([495. ,  36.2, 546. ,  42.1]))"
      ]
     },
     "execution_count": 7,
     "metadata": {},
     "output_type": "execute_result"
    }
   ],
   "source": [
    "# 테스트 데이터 중 하나의 샘플 인덱스 선택\n",
    "sample_index = 5\n",
    "\n",
    "# 해당 샘플에 대한 예측값과 실제값\n",
    "sample_ensemble_prediction_individual = ensemble_predictions_individual[sample_index]\n",
    "sample_actual_value_individual = y_test.iloc[sample_index].values\n",
    "\n",
    "ensemble_mse_individual, ensemble_mae_individual, sample_ensemble_prediction_individual, sample_actual_value_individual"
   ]
  },
  {
   "cell_type": "code",
   "execution_count": null,
   "metadata": {},
   "outputs": [],
   "source": []
  }
 ],
 "metadata": {
  "kernelspec": {
   "display_name": "gist-campus-ems-32oiAFMj-py3.11",
   "language": "python",
   "name": "python3"
  },
  "language_info": {
   "codemirror_mode": {
    "name": "ipython",
    "version": 3
   },
   "file_extension": ".py",
   "mimetype": "text/x-python",
   "name": "python",
   "nbconvert_exporter": "python",
   "pygments_lexer": "ipython3",
   "version": "3.11.4"
  },
  "orig_nbformat": 4
 },
 "nbformat": 4,
 "nbformat_minor": 2
}
