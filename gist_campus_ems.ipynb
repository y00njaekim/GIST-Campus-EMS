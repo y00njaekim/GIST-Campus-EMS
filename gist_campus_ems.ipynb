{
 "cells": [
  {
   "cell_type": "code",
   "execution_count": 3,
   "metadata": {},
   "outputs": [],
   "source": [
    "import warnings\n",
    "warnings.filterwarnings('ignore')"
   ]
  },
  {
   "cell_type": "code",
   "execution_count": 4,
   "metadata": {},
   "outputs": [],
   "source": [
    "\n",
    "from solar_power.environment_prediction_model import SolarPredictionModelExtended \n",
    "from solar_power.solar_prediction_model import FeatureSolarPredictionModel\n",
    "from electrical_load.load_prediction_model import BuildingEnergyModel\n",
    "\n",
    "# * 모델 선언\n",
    "# * 랜덤 시드 값을 모델 간 동일하게 42로 설정\n",
    "# * 테스트 데이터 비율을 모델 간 동일하게 0.2로 설정\n",
    "\n",
    "random_state = 42\n",
    "test_size = 0.2\n",
    "\n",
    "# * 기상 데이터 to 환경 감시 데이터 예측 모델\n",
    "env_pred_model = SolarPredictionModelExtended(\"./solar_power/merged_result.csv\", random_state=random_state, test_size=test_size)\n",
    "env_pred_model.load_data()\n",
    "env_pred_model.hyperparameter_tuning()\n",
    "env_pred_model.train_model()\n",
    "\n",
    "# * 환경 감시 데이터 to 태양광 발전량 예측 모델\n",
    "solar_pred_model = FeatureSolarPredictionModel(\"./solar_power/merged_result.csv\", random_state=random_state, test_size=test_size)\n",
    "solar_pred_model.load_data()\n",
    "solar_pred_model.feature_selection()\n",
    "solar_pred_model.train_model()\n",
    "\n",
    "# * 건물 전기 부하 예측 모델\n",
    "energy_pred_model = BuildingEnergyModel(\"./electrical_load/merged_data.csv\", random_state=random_state, test_size=test_size)\n",
    "energy_pred_model.load_data()\n",
    "energy_pred_model.train_model()"
   ]
  },
  {
   "cell_type": "code",
   "execution_count": 5,
   "metadata": {},
   "outputs": [
    {
     "data": {
      "text/html": [
       "<div>\n",
       "<style scoped>\n",
       "    .dataframe tbody tr th:only-of-type {\n",
       "        vertical-align: middle;\n",
       "    }\n",
       "\n",
       "    .dataframe tbody tr th {\n",
       "        vertical-align: top;\n",
       "    }\n",
       "\n",
       "    .dataframe thead th {\n",
       "        text-align: right;\n",
       "    }\n",
       "</style>\n",
       "<table border=\"1\" class=\"dataframe\">\n",
       "  <thead>\n",
       "    <tr style=\"text-align: right;\">\n",
       "      <th></th>\n",
       "      <th>강수확률</th>\n",
       "      <th>일최저기온</th>\n",
       "      <th>하늘상태</th>\n",
       "      <th>일최고기온</th>\n",
       "      <th>습도</th>\n",
       "      <th>풍향</th>\n",
       "      <th>풍속</th>\n",
       "      <th>time</th>\n",
       "    </tr>\n",
       "  </thead>\n",
       "  <tbody>\n",
       "    <tr>\n",
       "      <th>439</th>\n",
       "      <td>0.3</td>\n",
       "      <td>0.8</td>\n",
       "      <td>1.0</td>\n",
       "      <td>0.571429</td>\n",
       "      <td>0.833333</td>\n",
       "      <td>0.265264</td>\n",
       "      <td>0.290323</td>\n",
       "      <td>0.652174</td>\n",
       "    </tr>\n",
       "  </tbody>\n",
       "</table>\n",
       "</div>"
      ],
      "text/plain": [
       "     강수확률  일최저기온  하늘상태  일최고기온     습도    풍향  \\\n",
       "439          0.3           0.8         1.0      0.571429  0.833333  0.265264   \n",
       "\n",
       "       풍속      time  \n",
       "439  0.290323  0.652174  "
      ]
     },
     "execution_count": 5,
     "metadata": {},
     "output_type": "execute_result"
    }
   ],
   "source": [
    "# * 태양광 발전량 예측 모델에 입력할 정규화된 입력 데이터\n",
    "import numpy as np\n",
    "rand_int = np.random.randint(0, len(env_pred_model.X_test))\n",
    "\n",
    "test_x = env_pred_model.X_test.iloc[rand_int:rand_int+1, :]\n",
    "test_x"
   ]
  },
  {
   "cell_type": "code",
   "execution_count": 6,
   "metadata": {},
   "outputs": [
    {
     "data": {
      "text/plain": [
       "array([8.99885641])"
      ]
     },
     "execution_count": 6,
     "metadata": {},
     "output_type": "execute_result"
    }
   ],
   "source": [
    "# * 예측한 태양광 발전량\n",
    "res_solar = env_pred_model.predict(test_x) # 기상 데이터 -> 환경감시 데이터\n",
    "res_solar = solar_pred_model.predict(res_solar) # 환경감시 데이터 -> 태양광 발전량 데이터\n",
    "res_solar"
   ]
  },
  {
   "cell_type": "code",
   "execution_count": 7,
   "metadata": {},
   "outputs": [
    {
     "data": {
      "text/html": [
       "<div>\n",
       "<style scoped>\n",
       "    .dataframe tbody tr th:only-of-type {\n",
       "        vertical-align: middle;\n",
       "    }\n",
       "\n",
       "    .dataframe tbody tr th {\n",
       "        vertical-align: top;\n",
       "    }\n",
       "\n",
       "    .dataframe thead th {\n",
       "        text-align: right;\n",
       "    }\n",
       "</style>\n",
       "<table border=\"1\" class=\"dataframe\">\n",
       "  <thead>\n",
       "    <tr style=\"text-align: right;\">\n",
       "      <th></th>\n",
       "      <th>축구장</th>\n",
       "      <th>학생회관</th>\n",
       "      <th>중앙창고</th>\n",
       "      <th>학사과정</th>\n",
       "      <th>다산빌딩</th>\n",
       "      <th>시설관리동</th>\n",
       "      <th>대학C동</th>\n",
       "      <th>동물실험동</th>\n",
       "      <th>중앙도서관</th>\n",
       "      <th>LG도서관</th>\n",
       "      <th>신재생에너지동</th>\n",
       "      <th>삼성환경동</th>\n",
       "      <th>중앙연구기기센터</th>\n",
       "      <th>산업협력관</th>\n",
       "      <th>기숙사 B동</th>\n",
       "    </tr>\n",
       "  </thead>\n",
       "  <tbody>\n",
       "    <tr>\n",
       "      <th>439</th>\n",
       "      <td>2.2</td>\n",
       "      <td>1.5</td>\n",
       "      <td>0.9</td>\n",
       "      <td>0.9</td>\n",
       "      <td>0.8</td>\n",
       "      <td>2.2</td>\n",
       "      <td>0.7</td>\n",
       "      <td>1.6</td>\n",
       "      <td>1.0</td>\n",
       "      <td>1.2</td>\n",
       "      <td>3.0</td>\n",
       "      <td>2.0</td>\n",
       "      <td>3.7</td>\n",
       "      <td>4.8</td>\n",
       "      <td>2.0</td>\n",
       "    </tr>\n",
       "  </tbody>\n",
       "</table>\n",
       "</div>"
      ],
      "text/plain": [
       "     축구장  학생회관  중앙창고  학사과정  다산빌딩  시설관리동  대학C동  동물실험동  중앙도서관  LG도서관  신재생에너지동  \\\n",
       "439  2.2   1.5   0.9   0.9   0.8    2.2   0.7    1.6    1.0    1.2      3.0   \n",
       "\n",
       "     삼성환경동  중앙연구기기센터  산업협력관  기숙사 B동  \n",
       "439    2.0       3.7    4.8     2.0  "
      ]
     },
     "execution_count": 7,
     "metadata": {},
     "output_type": "execute_result"
    }
   ],
   "source": [
    "# * 실제 태양광 발전량\n",
    "solar_pred_model.y_test.iloc[rand_int:rand_int+1, :]"
   ]
  },
  {
   "cell_type": "code",
   "execution_count": 8,
   "metadata": {},
   "outputs": [
    {
     "data": {
      "text/html": [
       "<div>\n",
       "<style scoped>\n",
       "    .dataframe tbody tr th:only-of-type {\n",
       "        vertical-align: middle;\n",
       "    }\n",
       "\n",
       "    .dataframe tbody tr th {\n",
       "        vertical-align: top;\n",
       "    }\n",
       "\n",
       "    .dataframe thead th {\n",
       "        text-align: right;\n",
       "    }\n",
       "</style>\n",
       "<table border=\"1\" class=\"dataframe\">\n",
       "  <thead>\n",
       "    <tr style=\"text-align: right;\">\n",
       "      <th></th>\n",
       "      <th>time</th>\n",
       "      <th>1시간기온</th>\n",
       "      <th>1시간강수량</th>\n",
       "      <th>일최고기온</th>\n",
       "      <th>일최저기온</th>\n",
       "      <th>weekday_Friday</th>\n",
       "      <th>weekday_Monday</th>\n",
       "      <th>weekday_Saturday</th>\n",
       "      <th>weekday_Sunday</th>\n",
       "      <th>weekday_Thursday</th>\n",
       "      <th>weekday_Tuesday</th>\n",
       "      <th>weekday_Wednesday</th>\n",
       "    </tr>\n",
       "  </thead>\n",
       "  <tbody>\n",
       "    <tr>\n",
       "      <th>439</th>\n",
       "      <td>7</td>\n",
       "      <td>25.0</td>\n",
       "      <td>0.0</td>\n",
       "      <td>31.0</td>\n",
       "      <td>24.0</td>\n",
       "      <td>False</td>\n",
       "      <td>False</td>\n",
       "      <td>False</td>\n",
       "      <td>False</td>\n",
       "      <td>False</td>\n",
       "      <td>True</td>\n",
       "      <td>False</td>\n",
       "    </tr>\n",
       "  </tbody>\n",
       "</table>\n",
       "</div>"
      ],
      "text/plain": [
       "     time  1시간기온  1시간강수량  일최고기온  일최저기온  weekday_Friday  weekday_Monday  \\\n",
       "439     7   25.0     0.0   31.0   24.0           False           False   \n",
       "\n",
       "     weekday_Saturday  weekday_Sunday  weekday_Thursday  weekday_Tuesday  \\\n",
       "439             False           False             False             True   \n",
       "\n",
       "     weekday_Wednesday  \n",
       "439              False  "
      ]
     },
     "execution_count": 8,
     "metadata": {},
     "output_type": "execute_result"
    }
   ],
   "source": [
    "# * 부하량 예측 모델에 입력할 정규화된 입력 데이터\n",
    "test_x = energy_pred_model.X_test.iloc[rand_int:rand_int+1, :]\n",
    "test_x"
   ]
  },
  {
   "cell_type": "code",
   "execution_count": 9,
   "metadata": {},
   "outputs": [
    {
     "data": {
      "text/html": [
       "<div>\n",
       "<style scoped>\n",
       "    .dataframe tbody tr th:only-of-type {\n",
       "        vertical-align: middle;\n",
       "    }\n",
       "\n",
       "    .dataframe tbody tr th {\n",
       "        vertical-align: top;\n",
       "    }\n",
       "\n",
       "    .dataframe thead th {\n",
       "        text-align: right;\n",
       "    }\n",
       "</style>\n",
       "<table border=\"1\" class=\"dataframe\">\n",
       "  <thead>\n",
       "    <tr style=\"text-align: right;\">\n",
       "      <th></th>\n",
       "      <th>중앙P/P_석사</th>\n",
       "      <th>전기전자컴퓨터공학동_석사</th>\n",
       "      <th>신소재공학_석사</th>\n",
       "      <th>생명과학동_석사</th>\n",
       "      <th>기계공학동_석사</th>\n",
       "      <th>LG도서관_석사</th>\n",
       "      <th>창업B동_석사</th>\n",
       "      <th>금호관_석사</th>\n",
       "      <th>냉각수순환펌프1,2,3_석사</th>\n",
       "      <th>냉각수순환펌프4,5,6_석사</th>\n",
       "      <th>...</th>\n",
       "      <th>대학B동(E)_학사</th>\n",
       "      <th>대학기숙사A동(E)_학사</th>\n",
       "      <th>학사P/P(E)_학사</th>\n",
       "      <th>제2학생회관(E)_학사</th>\n",
       "      <th>교원아파트(E)_학사</th>\n",
       "      <th>대학C동(E)_학사</th>\n",
       "      <th>중앙연구기기센터(E)_학사</th>\n",
       "      <th>대학A동(E)_학사</th>\n",
       "      <th>다산빌딩(E)_학사</th>\n",
       "      <th>산학협력연구동(E)_학사</th>\n",
       "    </tr>\n",
       "  </thead>\n",
       "  <tbody>\n",
       "    <tr>\n",
       "      <th>0</th>\n",
       "      <td>120.7</td>\n",
       "      <td>429.8</td>\n",
       "      <td>413.9</td>\n",
       "      <td>482.4</td>\n",
       "      <td>138.1</td>\n",
       "      <td>263.5</td>\n",
       "      <td>32.8</td>\n",
       "      <td>57.5</td>\n",
       "      <td>87.8</td>\n",
       "      <td>49.8</td>\n",
       "      <td>...</td>\n",
       "      <td>36.2</td>\n",
       "      <td>30.2</td>\n",
       "      <td>27.6</td>\n",
       "      <td>32.3</td>\n",
       "      <td>32.5</td>\n",
       "      <td>22.0</td>\n",
       "      <td>51.1</td>\n",
       "      <td>19.0</td>\n",
       "      <td>47.6</td>\n",
       "      <td>21.5</td>\n",
       "    </tr>\n",
       "  </tbody>\n",
       "</table>\n",
       "<p>1 rows × 42 columns</p>\n",
       "</div>"
      ],
      "text/plain": [
       "   중앙P/P_석사  전기전자컴퓨터공학동_석사  신소재공학_석사  생명과학동_석사  기계공학동_석사  LG도서관_석사  창업B동_석사  \\\n",
       "0     120.7          429.8     413.9     482.4     138.1     263.5     32.8   \n",
       "\n",
       "   금호관_석사  냉각수순환펌프1,2,3_석사  냉각수순환펌프4,5,6_석사  ...  대학B동(E)_학사  대학기숙사A동(E)_학사  \\\n",
       "0    57.5             87.8             49.8  ...        36.2           30.2   \n",
       "\n",
       "   학사P/P(E)_학사  제2학생회관(E)_학사  교원아파트(E)_학사  대학C동(E)_학사  중앙연구기기센터(E)_학사  \\\n",
       "0         27.6          32.3         32.5        22.0            51.1   \n",
       "\n",
       "   대학A동(E)_학사  다산빌딩(E)_학사  산학협력연구동(E)_학사  \n",
       "0        19.0        47.6           21.5  \n",
       "\n",
       "[1 rows x 42 columns]"
      ]
     },
     "execution_count": 9,
     "metadata": {},
     "output_type": "execute_result"
    }
   ],
   "source": [
    "# * 예측한 전기 부하량\n",
    "res_load = energy_pred_model.predict(test_x)\n",
    "res_load"
   ]
  },
  {
   "cell_type": "code",
   "execution_count": 10,
   "metadata": {},
   "outputs": [
    {
     "data": {
      "text/html": [
       "<div>\n",
       "<style scoped>\n",
       "    .dataframe tbody tr th:only-of-type {\n",
       "        vertical-align: middle;\n",
       "    }\n",
       "\n",
       "    .dataframe tbody tr th {\n",
       "        vertical-align: top;\n",
       "    }\n",
       "\n",
       "    .dataframe thead th {\n",
       "        text-align: right;\n",
       "    }\n",
       "</style>\n",
       "<table border=\"1\" class=\"dataframe\">\n",
       "  <thead>\n",
       "    <tr style=\"text-align: right;\">\n",
       "      <th></th>\n",
       "      <th>중앙P/P_석사</th>\n",
       "      <th>전기전자컴퓨터공학동_석사</th>\n",
       "      <th>신소재공학_석사</th>\n",
       "      <th>생명과학동_석사</th>\n",
       "      <th>기계공학동_석사</th>\n",
       "      <th>LG도서관_석사</th>\n",
       "      <th>창업B동_석사</th>\n",
       "      <th>금호관_석사</th>\n",
       "      <th>냉각수순환펌프1,2,3_석사</th>\n",
       "      <th>냉각수순환펌프4,5,6_석사</th>\n",
       "      <th>...</th>\n",
       "      <th>대학B동(E)_학사</th>\n",
       "      <th>대학기숙사A동(E)_학사</th>\n",
       "      <th>학사P/P(E)_학사</th>\n",
       "      <th>제2학생회관(E)_학사</th>\n",
       "      <th>교원아파트(E)_학사</th>\n",
       "      <th>대학C동(E)_학사</th>\n",
       "      <th>중앙연구기기센터(E)_학사</th>\n",
       "      <th>대학A동(E)_학사</th>\n",
       "      <th>다산빌딩(E)_학사</th>\n",
       "      <th>산학협력연구동(E)_학사</th>\n",
       "    </tr>\n",
       "  </thead>\n",
       "  <tbody>\n",
       "    <tr>\n",
       "      <th>439</th>\n",
       "      <td>113.5</td>\n",
       "      <td>457.7</td>\n",
       "      <td>403.2</td>\n",
       "      <td>489.8</td>\n",
       "      <td>125.6</td>\n",
       "      <td>285.7</td>\n",
       "      <td>27.3</td>\n",
       "      <td>53.3</td>\n",
       "      <td>214.5</td>\n",
       "      <td>138.3</td>\n",
       "      <td>...</td>\n",
       "      <td>39.3</td>\n",
       "      <td>23.3</td>\n",
       "      <td>36.6</td>\n",
       "      <td>34.0</td>\n",
       "      <td>31.6</td>\n",
       "      <td>33.4</td>\n",
       "      <td>49.1</td>\n",
       "      <td>19.4</td>\n",
       "      <td>46.7</td>\n",
       "      <td>20.5</td>\n",
       "    </tr>\n",
       "  </tbody>\n",
       "</table>\n",
       "<p>1 rows × 42 columns</p>\n",
       "</div>"
      ],
      "text/plain": [
       "     중앙P/P_석사  전기전자컴퓨터공학동_석사  신소재공학_석사  생명과학동_석사  기계공학동_석사  LG도서관_석사  창업B동_석사  \\\n",
       "439     113.5          457.7     403.2     489.8     125.6     285.7     27.3   \n",
       "\n",
       "     금호관_석사  냉각수순환펌프1,2,3_석사  냉각수순환펌프4,5,6_석사  ...  대학B동(E)_학사  대학기숙사A동(E)_학사  \\\n",
       "439    53.3            214.5            138.3  ...        39.3           23.3   \n",
       "\n",
       "     학사P/P(E)_학사  제2학생회관(E)_학사  교원아파트(E)_학사  대학C동(E)_학사  중앙연구기기센터(E)_학사  \\\n",
       "439         36.6          34.0         31.6        33.4            49.1   \n",
       "\n",
       "     대학A동(E)_학사  다산빌딩(E)_학사  산학협력연구동(E)_학사  \n",
       "439        19.4        46.7           20.5  \n",
       "\n",
       "[1 rows x 42 columns]"
      ]
     },
     "execution_count": 10,
     "metadata": {},
     "output_type": "execute_result"
    }
   ],
   "source": [
    "# * 실제 전기 부하량\n",
    "energy_pred_model.y_test.iloc[rand_int:rand_int+1, :]"
   ]
  },
  {
   "cell_type": "code",
   "execution_count": 19,
   "metadata": {},
   "outputs": [
    {
     "data": {
      "text/plain": [
       "6930.5"
      ]
     },
     "execution_count": 19,
     "metadata": {},
     "output_type": "execute_result"
    }
   ],
   "source": [
    "# * 예측 발전량과 부하량을 통해 전기 요금 산출\n",
    "total_predicted_solar = res_solar.sum().sum()\n",
    "total_predicted_load = res_load.sum().sum()\n",
    "\n",
    "# print(\"Predicted solar power: \", total_predicted_solar)\n",
    "# print(\"Predicted load: \", total_predicted_load)\n"
   ]
  },
  {
   "cell_type": "code",
   "execution_count": null,
   "metadata": {},
   "outputs": [],
   "source": []
  }
 ],
 "metadata": {
  "kernelspec": {
   "display_name": "gist-campus-ems-ntfQ-Uq6-py3.11",
   "language": "python",
   "name": "python3"
  },
  "language_info": {
   "codemirror_mode": {
    "name": "ipython",
    "version": 3
   },
   "file_extension": ".py",
   "mimetype": "text/x-python",
   "name": "python",
   "nbconvert_exporter": "python",
   "pygments_lexer": "ipython3",
   "version": "3.11.4"
  },
  "orig_nbformat": 4
 },
 "nbformat": 4,
 "nbformat_minor": 2
}
