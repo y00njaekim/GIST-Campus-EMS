{
 "cells": [
  {
   "cell_type": "code",
   "execution_count": 2,
   "metadata": {},
   "outputs": [
    {
     "data": {
      "text/plain": [
       "['건국동_강수확률_20220630_20220831_filtered.csv',\n",
       " '건국동_일최저기온_20220630_20220831_filtered.csv',\n",
       " '건국동_1시간기온_20220630_20220831_filtered.csv',\n",
       " '건국동_하늘상태_20220630_20220831_filtered.csv',\n",
       " '건국동_일최고기온_20220630_20220831_filtered.csv',\n",
       " '건국동_습도_20220630_20220831_filtered.csv',\n",
       " '건국동_풍향_20220630_20220831_filtered.csv',\n",
       " '건국동_1시간강수량_20220630_20220831_filtered.csv',\n",
       " '건국동_풍속_20220630_20220831_filtered.csv']"
      ]
     },
     "execution_count": 2,
     "metadata": {},
     "output_type": "execute_result"
    }
   ],
   "source": [
    "import pandas as pd\n",
    "import os\n",
    "\n",
    "file_dir = './filtered/'\n",
    "file_list = os.listdir(file_dir)\n",
    "file_list"
   ]
  },
  {
   "cell_type": "code",
   "execution_count": 6,
   "metadata": {},
   "outputs": [
    {
     "data": {
      "text/html": [
       "<div>\n",
       "<style scoped>\n",
       "    .dataframe tbody tr th:only-of-type {\n",
       "        vertical-align: middle;\n",
       "    }\n",
       "\n",
       "    .dataframe tbody tr th {\n",
       "        vertical-align: top;\n",
       "    }\n",
       "\n",
       "    .dataframe thead th {\n",
       "        text-align: right;\n",
       "    }\n",
       "</style>\n",
       "<table border=\"1\" class=\"dataframe\">\n",
       "  <thead>\n",
       "    <tr style=\"text-align: right;\">\n",
       "      <th></th>\n",
       "      <th>day</th>\n",
       "      <th>time</th>\n",
       "      <th>강수확률</th>\n",
       "      <th>일최저기온</th>\n",
       "      <th>1시간기온</th>\n",
       "      <th>하늘상태</th>\n",
       "      <th>일최고기온</th>\n",
       "      <th>습도</th>\n",
       "      <th>풍향</th>\n",
       "      <th>1시간강수량</th>\n",
       "      <th>풍속</th>\n",
       "    </tr>\n",
       "  </thead>\n",
       "  <tbody>\n",
       "    <tr>\n",
       "      <th>0</th>\n",
       "      <td>2022-07-01</td>\n",
       "      <td>0</td>\n",
       "      <td>0.0</td>\n",
       "      <td>24.0</td>\n",
       "      <td>25.0</td>\n",
       "      <td>1.0</td>\n",
       "      <td>32.0</td>\n",
       "      <td>90.0</td>\n",
       "      <td>137.0</td>\n",
       "      <td>0.0</td>\n",
       "      <td>2.1</td>\n",
       "    </tr>\n",
       "    <tr>\n",
       "      <th>1</th>\n",
       "      <td>2022-07-01</td>\n",
       "      <td>1</td>\n",
       "      <td>0.0</td>\n",
       "      <td>24.0</td>\n",
       "      <td>25.0</td>\n",
       "      <td>1.0</td>\n",
       "      <td>32.0</td>\n",
       "      <td>95.0</td>\n",
       "      <td>141.0</td>\n",
       "      <td>0.0</td>\n",
       "      <td>1.9</td>\n",
       "    </tr>\n",
       "    <tr>\n",
       "      <th>2</th>\n",
       "      <td>2022-07-01</td>\n",
       "      <td>2</td>\n",
       "      <td>0.0</td>\n",
       "      <td>24.0</td>\n",
       "      <td>24.0</td>\n",
       "      <td>1.0</td>\n",
       "      <td>32.0</td>\n",
       "      <td>95.0</td>\n",
       "      <td>146.0</td>\n",
       "      <td>0.0</td>\n",
       "      <td>2.3</td>\n",
       "    </tr>\n",
       "    <tr>\n",
       "      <th>3</th>\n",
       "      <td>2022-07-01</td>\n",
       "      <td>3</td>\n",
       "      <td>0.0</td>\n",
       "      <td>24.0</td>\n",
       "      <td>24.0</td>\n",
       "      <td>1.0</td>\n",
       "      <td>32.0</td>\n",
       "      <td>95.0</td>\n",
       "      <td>150.0</td>\n",
       "      <td>0.0</td>\n",
       "      <td>2.4</td>\n",
       "    </tr>\n",
       "    <tr>\n",
       "      <th>4</th>\n",
       "      <td>2022-07-01</td>\n",
       "      <td>4</td>\n",
       "      <td>0.0</td>\n",
       "      <td>24.0</td>\n",
       "      <td>24.0</td>\n",
       "      <td>1.0</td>\n",
       "      <td>32.0</td>\n",
       "      <td>95.0</td>\n",
       "      <td>158.0</td>\n",
       "      <td>0.0</td>\n",
       "      <td>2.4</td>\n",
       "    </tr>\n",
       "  </tbody>\n",
       "</table>\n",
       "</div>"
      ],
      "text/plain": [
       "          day  time  강수확률  일최저기온  1시간기온  하늘상태  \\\n",
       "0  2022-07-01     0          0.0          24.0         25.0         1.0   \n",
       "1  2022-07-01     1          0.0          24.0         25.0         1.0   \n",
       "2  2022-07-01     2          0.0          24.0         24.0         1.0   \n",
       "3  2022-07-01     3          0.0          24.0         24.0         1.0   \n",
       "4  2022-07-01     4          0.0          24.0         24.0         1.0   \n",
       "\n",
       "   일최고기온  습도  풍향  1시간강수량  풍속  \n",
       "0          32.0   90.0   137.0             0.0     2.1  \n",
       "1          32.0   95.0   141.0             0.0     1.9  \n",
       "2          32.0   95.0   146.0             0.0     2.3  \n",
       "3          32.0   95.0   150.0             0.0     2.4  \n",
       "4          32.0   95.0   158.0             0.0     2.4  "
      ]
     },
     "execution_count": 6,
     "metadata": {},
     "output_type": "execute_result"
    }
   ],
   "source": [
    "merged_df = pd.read_csv(os.path.join(file_dir, file_list[0]))\n",
    "merged_df.rename(columns={'value': file_list[0].split('_')[1]}, inplace=True)\n",
    "\n",
    "for file_name in file_list[1:]:\n",
    "    temp_df = pd.read_csv(os.path.join(file_dir, file_name))\n",
    "    \n",
    "    column_name = file_name.split('_')[1]\n",
    "    temp_df.rename(columns={'value': column_name}, inplace=True)\n",
    "    \n",
    "    merged_df = pd.merge(merged_df, temp_df[['day', 'time', column_name]], on=['day', 'time'], how='left')\n",
    "    \n",
    "for day in merged_df['day'].unique():\n",
    "    low_temp_value = merged_df.loc[(merged_df['day'] == day) & (merged_df['time'] == 1), '일최저기온'].values[0]\n",
    "    high_temp_value = merged_df.loc[(merged_df['day'] == day) & (merged_df['time'] == 1), '일최고기온'].values[0]\n",
    "    merged_df.loc[merged_df['day'] == day, '일최저기온'] = low_temp_value\n",
    "    merged_df.loc[merged_df['day'] == day, '일최고기온'] = high_temp_value\n",
    "\n",
    "merged_df.head()"
   ]
  },
  {
   "cell_type": "code",
   "execution_count": 7,
   "metadata": {},
   "outputs": [
    {
     "data": {
      "text/plain": [
       "'./filtered/merged_dataset.csv'"
      ]
     },
     "execution_count": 7,
     "metadata": {},
     "output_type": "execute_result"
    }
   ],
   "source": [
    "output_file_path = os.path.join(file_dir, \"merged_dataset.csv\")\n",
    "merged_df.to_csv(output_file_path, index=False)\n",
    "output_file_path"
   ]
  },
  {
   "cell_type": "code",
   "execution_count": null,
   "metadata": {},
   "outputs": [],
   "source": []
  }
 ],
 "metadata": {
  "kernelspec": {
   "display_name": "gist-campus-ems-32oiAFMj-py3.11",
   "language": "python",
   "name": "python3"
  },
  "language_info": {
   "codemirror_mode": {
    "name": "ipython",
    "version": 3
   },
   "file_extension": ".py",
   "mimetype": "text/x-python",
   "name": "python",
   "nbconvert_exporter": "python",
   "pygments_lexer": "ipython3",
   "version": "3.11.4"
  },
  "orig_nbformat": 4
 },
 "nbformat": 4,
 "nbformat_minor": 2
}
