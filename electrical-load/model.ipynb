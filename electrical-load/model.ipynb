{
 "cells": [
  {
   "cell_type": "code",
   "execution_count": null,
   "metadata": {},
   "outputs": [],
   "source": [
    "import pandas as pd\n",
    "from sklearn.model_selection import train_test_split\n",
    "from sklearn.ensemble import RandomForestRegressor\n",
    "from sklearn.metrics import mean_squared_error\n",
    "\n",
    "# 데이터 로드\n",
    "data = pd.read_csv(\"./merged_data.csv\")\n",
    "\n",
    "# weekday 컬럼에 대한 one-hot 인코딩\n",
    "data_encoded = pd.get_dummies(data, columns=['weekday'])\n",
    "\n",
    "# 입력 변수와 타겟 변수 분리\n",
    "X = data_encoded[['time', '1시간기온', '1시간강수량', '일최고기온', '일최저기온', \n",
    "                  'weekday_Friday', 'weekday_Monday', 'weekday_Saturday', \n",
    "                  'weekday_Sunday', 'weekday_Thursday', 'weekday_Tuesday', 'weekday_Wednesday']]\n",
    "y = data_encoded.loc[:, 'SV-2_석사':'산학협력연구동(E)_학사']\n",
    "\n",
    "# 학습 세트와 테스트 세트로 분할\n",
    "X_train, X_test, y_train, y_test = train_test_split(X, y, test_size=0.2, random_state=42)"
   ]
  },
  {
   "cell_type": "code",
   "execution_count": null,
   "metadata": {},
   "outputs": [],
   "source": [
    "# 랜덤 포레스트 회귀 모델 초기화 및 학습\n",
    "rf_regressor = RandomForestRegressor(n_estimators=100, random_state=42)\n",
    "rf_regressor.fit(X_train, y_train)\n",
    "\n",
    "# 테스트 세트에서의 예측 수행\n",
    "y_pred = rf_regressor.predict(X_test)\n",
    "\n",
    "# 평균 제곱 오차 계산\n",
    "mse = mean_squared_error(y_test, y_pred, multioutput='raw_values')\n"
   ]
  },
  {
   "cell_type": "code",
   "execution_count": null,
   "metadata": {},
   "outputs": [],
   "source": [
    "# 테스트 데이터 예측\n",
    "y_pred_test = rf_regressor.predict(X_test)\n",
    "\n",
    "# 예측값을 DataFrame으로 변환\n",
    "df_predictions_test = pd.DataFrame(y_pred_test, columns=y_test.columns, index=y_test.index)\n",
    "\n",
    "# 실제값과 예측값을 나란히 출력\n",
    "comparison_list_test = []\n",
    "for column in y_test.columns:\n",
    "    comparison_list_test.append(y_test[column])\n",
    "    comparison_list_test.append(df_predictions_test[column])\n",
    "\n",
    "formatted_comparison_df_test = pd.concat(comparison_list_test, axis=1)\n",
    "print(formatted_comparison_df_test)"
   ]
  },
  {
   "cell_type": "code",
   "execution_count": 6,
   "metadata": {},
   "outputs": [
    {
     "data": {
      "text/html": [
       "<div>\n",
       "<style scoped>\n",
       "    .dataframe tbody tr th:only-of-type {\n",
       "        vertical-align: middle;\n",
       "    }\n",
       "\n",
       "    .dataframe tbody tr th {\n",
       "        vertical-align: top;\n",
       "    }\n",
       "\n",
       "    .dataframe thead th {\n",
       "        text-align: right;\n",
       "    }\n",
       "</style>\n",
       "<table border=\"1\" class=\"dataframe\">\n",
       "  <thead>\n",
       "    <tr style=\"text-align: right;\">\n",
       "      <th></th>\n",
       "      <th>day</th>\n",
       "      <th>time</th>\n",
       "      <th>load</th>\n",
       "    </tr>\n",
       "  </thead>\n",
       "  <tbody>\n",
       "    <tr>\n",
       "      <th>1318</th>\n",
       "      <td>2022-08-24</td>\n",
       "      <td>22</td>\n",
       "      <td>28895.246</td>\n",
       "    </tr>\n",
       "    <tr>\n",
       "      <th>899</th>\n",
       "      <td>2022-08-07</td>\n",
       "      <td>11</td>\n",
       "      <td>30012.126</td>\n",
       "    </tr>\n",
       "    <tr>\n",
       "      <th>439</th>\n",
       "      <td>2022-07-19</td>\n",
       "      <td>7</td>\n",
       "      <td>28144.893</td>\n",
       "    </tr>\n",
       "    <tr>\n",
       "      <th>560</th>\n",
       "      <td>2022-07-24</td>\n",
       "      <td>8</td>\n",
       "      <td>28244.253</td>\n",
       "    </tr>\n",
       "    <tr>\n",
       "      <th>433</th>\n",
       "      <td>2022-07-19</td>\n",
       "      <td>1</td>\n",
       "      <td>28067.142</td>\n",
       "    </tr>\n",
       "  </tbody>\n",
       "</table>\n",
       "</div>"
      ],
      "text/plain": [
       "             day  time       load\n",
       "1318  2022-08-24    22  28895.246\n",
       "899   2022-08-07    11  30012.126\n",
       "439   2022-07-19     7  28144.893\n",
       "560   2022-07-24     8  28244.253\n",
       "433   2022-07-19     1  28067.142"
      ]
     },
     "execution_count": 6,
     "metadata": {},
     "output_type": "execute_result"
    }
   ],
   "source": [
    "# 테스트 세트에 대한 예측값의 합계 계산\n",
    "total_load = y_pred_test.sum(axis=1)\n",
    "\n",
    "# 'day', 'time', 'load' 형태의 데이터 생성\n",
    "load_df = X_test[['time']].copy()\n",
    "load_df['day'] = data_encoded.loc[X_test.index, 'day']\n",
    "load_df['load'] = total_load\n",
    "\n",
    "# 'day', 'time', 'load' 순서로 컬럼 재배열\n",
    "load_df = load_df[['day', 'time', 'load']]\n",
    "\n",
    "load_df.head()\n"
   ]
  },
  {
   "cell_type": "code",
   "execution_count": null,
   "metadata": {},
   "outputs": [],
   "source": []
  }
 ],
 "metadata": {
  "kernelspec": {
   "display_name": "gist-campus-ems-ntfQ-Uq6-py3.11",
   "language": "python",
   "name": "python3"
  },
  "language_info": {
   "codemirror_mode": {
    "name": "ipython",
    "version": 3
   },
   "file_extension": ".py",
   "mimetype": "text/x-python",
   "name": "python",
   "nbconvert_exporter": "python",
   "pygments_lexer": "ipython3",
   "version": "3.11.4"
  },
  "orig_nbformat": 4
 },
 "nbformat": 4,
 "nbformat_minor": 2
}
